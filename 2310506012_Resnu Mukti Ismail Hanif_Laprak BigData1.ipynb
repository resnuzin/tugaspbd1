{
 "cells": [
  {
   "cell_type": "markdown",
   "id": "1180172a-9c4a-4cae-a4df-fc04a3f4e0e6",
   "metadata": {
    "id": "10c25d6f"
   },
   "source": [
    "# Pengenalan Big Data dan Overview Teknologi"
   ]
  },
  {
   "cell_type": "markdown",
   "id": "bb62b12f-52d3-426c-9c72-ab24eac2d363",
   "metadata": {},
   "source": [
    "Big data adalah kumpulan data yang sangat besar dan kompleks yang dapat dianalisis dan diproses menggunakan teknik dan metode tradisional. Data tersebut mencakup data yang terstruktur dan tidak terstruktur, yang didapat dari software, media sosial, server web dan teknologi yang mengambil data secara masif. Dikarenakan volume, variasi dan kecepatan data sudah berkembang sangat pesat maka dibutuhkan metode yang lebih canggih, karena metode tradisional sudah tidak memadai untuk menangani data yang semakin banyak dan semakin bervariasi."
   ]
  },
  {
   "cell_type": "markdown",
   "id": "23b963c0",
   "metadata": {
    "id": "23b963c0"
   },
   "source": [
    "### Instalasi Anaconda\n",
    "- **Langkah 1: Unduh dan Instal Anaconda**\n",
    "  Anaconda adalah software yang digunakan untuk melakukan proses Big Data. Ikuti langkah-langkah instalasi sesuai sistem operasi:\n",
    "  - Unduh Anaconda: https://www.anaconda.com/download \n",
    "  - Instal sesuai instruksi yang ada di situs web tersebut (Windows/Mac/Linux).\n",
    "\n",
    "- **Langkah 2: Menginstal openJDK**\n",
    "  Kita dapat mendownload openJDK di environtment Anaconda\n",
    "\n",
    "- **Langkah 3: Menginstal PySpark di Anaconda**\n",
    "  ```bash\n",
    "  pip install pyspark==3.4.1\n",
    "  ```\n",
    "\n",
    "- **Langkah 4: Menginstal Pandas**\n",
    "  Pandas digunakan untuk visualisasi data\n",
    "  ```bash\n",
    "  pip install pandas\n",
    "  ```\n",
    "\n",
    "- **Langkah 5: Menginstal Findspark**\n",
    "  ```bash\n",
    "  pip install findspark\n",
    "  ```"
   ]
  },
  {
   "cell_type": "markdown",
   "id": "208f1a45",
   "metadata": {
    "id": "208f1a45"
   },
   "source": [
    "### Pengenalan dan Praktik Dasar PySpark dan Pandas\n",
    "- **Langkah 1: Membuka Jupyter Notebook**\n",
    "  Setelah instalasi selesai, buka Jupyter Notebook melalui Anaconda Navigator atau melalui terminal dengan perintah:\n",
    "  ```bash\n",
    "  jupyter notebook\n",
    "  ```\n",
    "\n",
    "- **Langkah 2: Membuat Project Notebook Baru**\n",
    "  Di Jupyter Notebook, buat notebook baru untuk praktikum ini.\n",
    "\n",
    "- **Langkah 3: Praktik dengan PySpark**\n",
    "  Buat program sederhana untuk memulai dengan PySpark. Gunakan PySpark untuk membuat DataFrame dan memanipulasi data sederhana:"
   ]
  },
  {
   "cell_type": "markdown",
   "id": "8747276f",
   "metadata": {
    "id": "8747276f"
   },
   "source": [
    "- **Tugas 1**: Jalankan kode dan buat modifikasi dengan menambahkan data lain berupa kolom pekerjaan, hobi dan gender."
   ]
  },
  {
   "cell_type": "markdown",
   "id": "1db01af5-79c4-4c0a-bc37-6198807dac0d",
   "metadata": {},
   "source": [
    "Langkah awal mengerjakan tugas adalah mengimport module findspark. Lalu membuat spark session dengan appname \"Kelaskuu\". Membuat program sederhana berisi nama mahasiswa dan atribut(kolom). Setelah membuat program sederhana kita membuat data frame mahasiswa dan atribut. Lalu kita tampilkan dengan menggunakan show()"
   ]
  },
  {
   "cell_type": "code",
   "execution_count": 1,
   "id": "KERSZShIH_aN",
   "metadata": {
    "id": "KERSZShIH_aN"
   },
   "outputs": [],
   "source": [
    "import findspark\n",
    "findspark.init()"
   ]
  },
  {
   "cell_type": "code",
   "execution_count": 62,
   "id": "adc34a24-2c08-496e-b7ff-79d57c0f0625",
   "metadata": {},
   "outputs": [
    {
     "name": "stdout",
     "output_type": "stream",
     "text": [
      "+-------+-------------------+-------------+----+------------+\n",
      "|   Nama|            Jurusan|         Hobi|Usia|Jeniskelamin|\n",
      "+-------+-------------------+-------------+----+------------+\n",
      "|  Resnu|     Teknik Elektro| Bermain Game|  19|   Laki-laki|\n",
      "|Zharifa|    Teknik Industri|Menonton Film|  19|   Perempuan|\n",
      "|   Naga|Teknologi Informasi|     Berenang|  20|   Laki-laki|\n",
      "|   Gema|Teknologi Informasi|      Jogging|  21|   Laki-laki|\n",
      "+-------+-------------------+-------------+----+------------+\n",
      "\n"
     ]
    }
   ],
   "source": [
    "# Memulai Spark Session\n",
    "spark = SparkSession.builder.appName(\"Kelaskuu\").getOrCreate()\n",
    "\n",
    "# Program sederhana\n",
    "mahasiswa = [(\"Resnu\", \"Teknik Elektro\", \"Bermain Game\", 19, \"Laki-laki\"), (\"Zharifa\", \"Teknik Industri\", \"Menonton Film\", 19, \"Perempuan\"), (\"Naga\", \"Teknologi Informasi\", \"Berenang\", 20, \"Laki-laki\"), (\"Gema\", \"Teknologi Informasi\", \"Jogging\", 21, \"Laki-laki\")]\n",
    "atribut = [\"Nama\", \"Jurusan\", \"Hobi\", \"Usia\", \"Jeniskelamin\"]\n",
    "df_mahasiswa = spark.createDataFrame(mahasiswa, atribut)\n",
    "\n",
    "#menampilkan Data Frame\n",
    "df_mahasiswa.show()"
   ]
  },
  {
   "cell_type": "markdown",
   "id": "1f84a333",
   "metadata": {
    "id": "1f84a333"
   },
   "source": [
    "### Praktik PySpark Lanjutan\n",
    "- **Latihan 1**: Memanipulasi Data dengan PySpark."
   ]
  },
  {
   "cell_type": "markdown",
   "id": "e06767bc",
   "metadata": {
    "id": "e06767bc"
   },
   "source": [
    "- **Tugas 2**: Lakukan filter, penghitungan rata-rata, dan pengurutan data menggunakan PySpark."
   ]
  },
  {
   "cell_type": "markdown",
   "id": "60f5b56f-8be6-4d95-a0c9-dc1ec4cbfc0b",
   "metadata": {},
   "source": [
    "Seperti tugas sebelumnya kita mulai dengan spark session dan membuat program sederhana, setelah itu membuat data frame program tersebut. Membuat filtering data dengan code `df.filter(df['Usia'] > 19)`. Lalu membuat operasi rata-rata usia `from pyspark.sql.functions import avg\n",
    "df.groupBy().agg(avg(\"Usia\")).show()`. Dan terakhir mengurutkan data dengan filter Usia."
   ]
  },
  {
   "cell_type": "code",
   "execution_count": 58,
   "id": "1f391ed5",
   "metadata": {
    "id": "1f391ed5"
   },
   "outputs": [
    {
     "name": "stdout",
     "output_type": "stream",
     "text": [
      "+-------+-------------------+-------------+----+------------+\n",
      "|   Nama|            Jurusan|         Hobi|Usia|Jeniskelamin|\n",
      "+-------+-------------------+-------------+----+------------+\n",
      "|  Resnu|     Teknik Elektro| Bermain Game|  19|   Laki-laki|\n",
      "|Zharifa|    Teknik Industri|Menonton Film|  19|   Perempuan|\n",
      "|   Naga|Teknologi Informasi|     Berenang|  20|   Laki-laki|\n",
      "|   Gema|Teknologi Informasi|      Jogging|  21|   Laki-laki|\n",
      "+-------+-------------------+-------------+----+------------+\n",
      "\n",
      "+----+-------------------+--------+----+------------+\n",
      "|Nama|            Jurusan|    Hobi|Usia|Jeniskelamin|\n",
      "+----+-------------------+--------+----+------------+\n",
      "|Naga|Teknologi Informasi|Berenang|  20|   Laki-laki|\n",
      "|Gema|Teknologi Informasi| Jogging|  21|   Laki-laki|\n",
      "+----+-------------------+--------+----+------------+\n",
      "\n",
      "+---------+\n",
      "|avg(Usia)|\n",
      "+---------+\n",
      "|    19.75|\n",
      "+---------+\n",
      "\n",
      "+-------+-------------------+-------------+----+------------+\n",
      "|   Nama|            Jurusan|         Hobi|Usia|Jeniskelamin|\n",
      "+-------+-------------------+-------------+----+------------+\n",
      "|  Resnu|     Teknik Elektro| Bermain Game|  19|   Laki-laki|\n",
      "|Zharifa|    Teknik Industri|Menonton Film|  19|   Perempuan|\n",
      "|   Naga|Teknologi Informasi|     Berenang|  20|   Laki-laki|\n",
      "|   Gema|Teknologi Informasi|      Jogging|  21|   Laki-laki|\n",
      "+-------+-------------------+-------------+----+------------+\n",
      "\n"
     ]
    }
   ],
   "source": [
    "# Memulai Spark Session\n",
    "spark = SparkSession.builder.appName(\"Kelaskuuu\").getOrCreate()\n",
    "\n",
    "# Program sederhana\n",
    "mahasiswa = [(\"Resnu\", \"Teknik Elektro\", \"Bermain Game\", 19, \"Laki-laki\"), (\"Zharifa\", \"Teknik Industri\", \"Menonton Film\", 19, \"Perempuan\"), (\"Naga\", \"Teknologi Informasi\", \"Berenang\", 20, \"Laki-laki\"), (\"Gema\", \"Teknologi Informasi\", \"Jogging\", 21, \"Laki-laki\")]\n",
    "atribut = [\"Nama\", \"Jurusan\", \"Hobi\", \"Usia\", \"Jeniskelamin\"]\n",
    "df_mahasiswa2 = spark.createDataFrame(mahasiswa, kolom)\n",
    "\n",
    "#menampilkan Data Frame\n",
    "df.show()\n",
    "\n",
    "# Filtering data\n",
    "df_filtered = df.filter(df['Usia'] > 19)\n",
    "df_filtered.show()\n",
    "\n",
    "# Menghitung rata-rata usia\n",
    "from pyspark.sql.functions import avg\n",
    "df.groupBy().agg(avg(\"Usia\")).show()\n",
    "\n",
    "# Mengurutkan data berdasarkan usia\n",
    "df_sorted = df.orderBy(\"Usia\", ascending=True)\n",
    "df_sorted.show()\n"
   ]
  },
  {
   "cell_type": "markdown",
   "id": "fe1e34a5",
   "metadata": {
    "id": "fe1e34a5"
   },
   "source": [
    "### 4. Praktik dengan Pandas\n",
    "- **Latihan 2**:  Buat DataFrame menggunakan Pandas:"
   ]
  },
  {
   "cell_type": "markdown",
   "id": "9da455f1",
   "metadata": {
    "id": "9da455f1"
   },
   "source": [
    "- **Tugas 3**: Modifikasi DataFrame Pandas dengan menambahkan kolom baru dan melakukan operasi seperti filtering data berdasarkan usia."
   ]
  },
  {
   "cell_type": "markdown",
   "id": "6d31f380-28d7-4a35-aba4-85dadf4688da",
   "metadata": {},
   "source": [
    "Dimulai dengan impor module pandas, lalu membuat program sederhana yang dilanjut dengan membuat data frame. Setelah itu menambahkan data Jurusan dan Tempat Lahir. Terakhir mengfilter usia untuk menampiilakan data usia diatas 19 tahun."
   ]
  },
  {
   "cell_type": "code",
   "execution_count": 59,
   "id": "3f1f2ec1",
   "metadata": {
    "id": "3f1f2ec1"
   },
   "outputs": [
    {
     "name": "stdout",
     "output_type": "stream",
     "text": [
      "   Nama  Usia              Jurusan Tempat Lahir\n",
      "2  Naga    20  Teknologi Informasi       London\n",
      "3  Gema    21  Teknologi Informasi       Bekasi\n"
     ]
    },
    {
     "data": {
      "text/html": [
       "<div>\n",
       "<style scoped>\n",
       "    .dataframe tbody tr th:only-of-type {\n",
       "        vertical-align: middle;\n",
       "    }\n",
       "\n",
       "    .dataframe tbody tr th {\n",
       "        vertical-align: top;\n",
       "    }\n",
       "\n",
       "    .dataframe thead th {\n",
       "        text-align: right;\n",
       "    }\n",
       "</style>\n",
       "<table border=\"1\" class=\"dataframe\">\n",
       "  <thead>\n",
       "    <tr style=\"text-align: right;\">\n",
       "      <th></th>\n",
       "      <th>Nama</th>\n",
       "      <th>Usia</th>\n",
       "      <th>Jurusan</th>\n",
       "      <th>Tempat Lahir</th>\n",
       "    </tr>\n",
       "  </thead>\n",
       "  <tbody>\n",
       "    <tr>\n",
       "      <th>0</th>\n",
       "      <td>Resnu</td>\n",
       "      <td>19</td>\n",
       "      <td>Teknik Elektro</td>\n",
       "      <td>Jakarta</td>\n",
       "    </tr>\n",
       "    <tr>\n",
       "      <th>1</th>\n",
       "      <td>Zharifa</td>\n",
       "      <td>19</td>\n",
       "      <td>Teknik Industri</td>\n",
       "      <td>Pemalang</td>\n",
       "    </tr>\n",
       "    <tr>\n",
       "      <th>2</th>\n",
       "      <td>Naga</td>\n",
       "      <td>20</td>\n",
       "      <td>Teknologi Informasi</td>\n",
       "      <td>London</td>\n",
       "    </tr>\n",
       "    <tr>\n",
       "      <th>3</th>\n",
       "      <td>Gema</td>\n",
       "      <td>21</td>\n",
       "      <td>Teknologi Informasi</td>\n",
       "      <td>Bekasi</td>\n",
       "    </tr>\n",
       "  </tbody>\n",
       "</table>\n",
       "</div>"
      ],
      "text/plain": [
       "      Nama  Usia              Jurusan Tempat Lahir\n",
       "0    Resnu    19       Teknik Elektro      Jakarta\n",
       "1  Zharifa    19      Teknik Industri     Pemalang\n",
       "2     Naga    20  Teknologi Informasi       London\n",
       "3     Gema    21  Teknologi Informasi       Bekasi"
      ]
     },
     "execution_count": 59,
     "metadata": {},
     "output_type": "execute_result"
    }
   ],
   "source": [
    "import pandas as pd\n",
    "\n",
    "# Membuat DataFrame Pandas\n",
    "data_pandas = {\"Nama\": [\"Resnu\", \"Zharifa\", \"Naga\", \"Gema\"], \"Usia\": [19, 19, 20, 21]}\n",
    "df_pandas = pd.DataFrame(data_pandas)\n",
    "\n",
    "# Menambahkan Kolom baru\n",
    "df_pandas[\"Jurusan\"] = [\"Teknik Elektro\", \"Teknik Industri\", \"Teknologi Informasi\", \"Teknologi Informasi\"]\n",
    "df_pandas[\"Tempat Lahir\"] = [\"Jakarta\", \"Pemalang\", \"London\", \"Bekasi\"]\n",
    "\n",
    "\n",
    "# Filtering data untuk mahasiswa dengan usia di atas 19 tahun\n",
    "df_filtered_usia = df_pandas[df_pandas[\"Usia\"] > 19]\n",
    "print(df_filtered_usia)\n",
    "df_pandas"
   ]
  },
  {
   "cell_type": "markdown",
   "id": "c0042b2b",
   "metadata": {
    "id": "c0042b2b"
   },
   "source": [
    "### 5. Praktik Pandas Lanjutan\n",
    "- **Latihan 3**: Penggunaan Pandas untuk operasi lebih kompleks."
   ]
  },
  {
   "cell_type": "markdown",
   "id": "884ed75d",
   "metadata": {
    "id": "884ed75d"
   },
   "source": [
    "- **Tugas 4**: Lakukan penggabungan DataFrame dan visualisasikan data dengan Pandas."
   ]
  },
  {
   "cell_type": "markdown",
   "id": "dd1a186b-377e-4cf5-a299-726c39a573c2",
   "metadata": {},
   "source": [
    "Dimulai dengan import modul pandas, kemudian membuat 2 program sederhana. Lalu menggabungkan keduanya dengan kode merge. Setelah itu menghitung statistik deskriptif dengan kode `print(df_pandas.describe())`. Terakhir untuk visualisasinya menggunakan matplotlib"
   ]
  },
  {
   "cell_type": "code",
   "execution_count": 49,
   "id": "e7a8142f",
   "metadata": {
    "id": "e7a8142f"
   },
   "outputs": [
    {
     "name": "stdout",
     "output_type": "stream",
     "text": [
      "      Nama  Usia   Cita-cita\n",
      "0    Resnu    19  Kapal laut\n",
      "1  Zharifa    19    Penyanyi\n",
      "2     Naga    20    Kesatria\n",
      "3     Gema    21    Presiden\n",
      "            Usia\n",
      "count   4.000000\n",
      "mean   19.750000\n",
      "std     0.957427\n",
      "min    19.000000\n",
      "25%    19.000000\n",
      "50%    19.500000\n",
      "75%    20.250000\n",
      "max    21.000000\n"
     ]
    },
    {
     "data": {
      "image/png": "[encoded data removed]",
      "text/plain": [
       "<Figure size 640x480 with 1 Axes>"
      ]
     },
     "metadata": {},
     "output_type": "display_data"
    }
   ],
   "source": [
    "import pandas as pd\n",
    "\n",
    "# Membuat DataFrame Pandas\n",
    "data_pandas = {\"Nama\": [\"Resnu\", \"Zharifa\", \"Naga\", \"Gema\"], \"Usia\": [19, 19, 20, 21]}\n",
    "df_pandas = pd.DataFrame(data_pandas)\n",
    "\n",
    "# Membuat DataFrame kedua\n",
    "data_pandas2 = {\"Nama\": [\"Resnu\", \"Zharifa\", \"Naga\", \"Gema\"], \"Cita-cita\": [\"Kapal laut\", \"Penyanyi\", \"Kesatria\", \"Presiden\"]}\n",
    "df_pandas2 = pd.DataFrame(data_pandas2)\n",
    "\n",
    "# Menggabungkan antara dua DataFrame\n",
    "df_joined = pd.merge(df_pandas, df_pandas2, on=\"Nama\")\n",
    "print(df_joined)\n",
    "\n",
    "# Menghitung statistik deskriptif\n",
    "print(df_pandas.describe())\n",
    "\n",
    "# Plotting Data\n",
    "import matplotlib.pyplot as plt\n",
    "df_pandas['Usia'].plot(kind='bar')\n",
    "plt.show()\n"
   ]
  },
  {
   "cell_type": "markdown",
   "id": "bf671ba3",
   "metadata": {
    "id": "bf671ba3"
   },
   "source": [
    "### 5. Menggabungkan PySpark dan Pandas\n",
    "- **Latihan 4: Mengonversi DataFrame antara PySpark dan Pandas**\n",
    "  Praktik untuk convert DataFrame dari PySpark ke Pandas dan sebaliknya:\n"
   ]
  },
  {
   "cell_type": "markdown",
   "id": "2cba4e5c",
   "metadata": {
    "id": "2cba4e5c"
   },
   "source": [
    "- **Tugas 5**: Gunakan metode ini untuk menggabungkan data yang Anda buat di PySpark dengan data dari Pandas, kemudian lakukan analisis sederhana seperti menghitung rata-rata usia."
   ]
  },
  {
   "cell_type": "markdown",
   "id": "c4707ee7-05b9-4ec0-8470-e43b70980bf6",
   "metadata": {},
   "source": [
    "Mengonversi dataframe pyspark ke pandas dengan tujuan untuk menyelaraskan data frame, dengan disini menggunakan data frame pandas. Setelah itu gunakan merge untuk menytukan dua data frame tersebut. Terakhir menghitung rata-rata usia pada data frame tersebut dengan kode `df_spark_from_pandas.groupBy().agg(avg(\"Usia\")).show()`."
   ]
  },
  {
   "cell_type": "code",
   "execution_count": 63,
   "id": "337e123f",
   "metadata": {
    "id": "337e123f"
   },
   "outputs": [
    {
     "name": "stdout",
     "output_type": "stream",
     "text": [
      "      Nama              Jurusan           Hobi  Usia Jeniskelamin   Cita-cita\n",
      "0    Resnu       Teknik Elektro   Bermain Game    19    Laki-laki  Kapal laut\n",
      "1  Zharifa      Teknik Industri  Menonton Film    19    Perempuan    Penyanyi\n",
      "2     Naga  Teknologi Informasi       Berenang    20    Laki-laki    Kesatria\n",
      "3     Gema  Teknologi Informasi        Jogging    21    Laki-laki    Presiden\n",
      "+-------+-------------------+-------------+----+------------+----------+\n",
      "|   Nama|            Jurusan|         Hobi|Usia|Jeniskelamin| Cita-cita|\n",
      "+-------+-------------------+-------------+----+------------+----------+\n",
      "|  Resnu|     Teknik Elektro| Bermain Game|  19|   Laki-laki|Kapal laut|\n",
      "|Zharifa|    Teknik Industri|Menonton Film|  19|   Perempuan|  Penyanyi|\n",
      "|   Naga|Teknologi Informasi|     Berenang|  20|   Laki-laki|  Kesatria|\n",
      "|   Gema|Teknologi Informasi|      Jogging|  21|   Laki-laki|  Presiden|\n",
      "+-------+-------------------+-------------+----+------------+----------+\n",
      "\n",
      "+---------+\n",
      "|avg(Usia)|\n",
      "+---------+\n",
      "|    19.75|\n",
      "+---------+\n",
      "\n"
     ]
    }
   ],
   "source": [
    "import pandas as pd\n",
    "# Mengonversi DataFrame dari PySpark ke Pandas\n",
    "df_pandas_from_spark = df_mahasiswa.toPandas()\n",
    "\n",
    "df_pandas1 = df_pandas2\n",
    "\n",
    "# Menggabungkan antara dua DataFrame\n",
    "df_joined = pd.merge(df_pandas_from_spark, df_pandas1, on=\"Nama\")\n",
    "print(df_joined)\n",
    "\n",
    "#Mengonversi hasil gabungan\n",
    "df_spark_from_pandas = spark.createDataFrame(df_joined)\n",
    "df_spark_from_pandas.show()\n",
    "\n",
    "# Menghitung rata-rata usia\n",
    "df_spark_from_pandas.groupBy().agg(avg(\"Usia\")).show()"
   ]
  },
  {
   "cell_type": "markdown",
   "id": "afdba6be",
   "metadata": {
    "id": "afdba6be"
   },
   "source": [
    "### 6. Konversi Data antara PySpark dan Pandas"
   ]
  },
  {
   "cell_type": "markdown",
   "id": "52ea9d8a-5362-4787-bed2-0060dde8cac2",
   "metadata": {},
   "source": [
    "Mengonversi kedua dataframe dari pandas ke spark dan sebaliknya, lalu digabungkan kedua data frame tersebut. `print(df_joined.max())` kode tersbut digunakan untuk melihat nilai maksimum semua atribut"
   ]
  },
  {
   "cell_type": "markdown",
   "id": "65adbe71",
   "metadata": {
    "id": "65adbe71"
   },
   "source": [
    "- **Tugas 6**: Gabungkan data dari PySpark dan Pandas, lalu lakukan operasi statistik seperti menghitung nilai maksimum usia."
   ]
  },
  {
   "cell_type": "code",
   "execution_count": 64,
   "id": "f863defc",
   "metadata": {
    "id": "f863defc"
   },
   "outputs": [
    {
     "name": "stdout",
     "output_type": "stream",
     "text": [
      "      Nama            Jurusan_x           Hobi  Usia_x Jeniskelamin  Usia_y  \\\n",
      "0    Resnu       Teknik Elektro   Bermain Game      19    Laki-laki      19   \n",
      "1  Zharifa      Teknik Industri  Menonton Film      19    Perempuan      19   \n",
      "2     Naga  Teknologi Informasi       Berenang      20    Laki-laki      20   \n",
      "3     Gema  Teknologi Informasi        Jogging      21    Laki-laki      21   \n",
      "\n",
      "             Jurusan_y Tempat Lahir  \n",
      "0       Teknik Elektro      Jakarta  \n",
      "1      Teknik Industri     Pemalang  \n",
      "2  Teknologi Informasi       London  \n",
      "3  Teknologi Informasi       Bekasi  \n",
      "Nama                        Zharifa\n",
      "Jurusan_x       Teknologi Informasi\n",
      "Hobi                  Menonton Film\n",
      "Usia_x                           21\n",
      "Jeniskelamin              Perempuan\n",
      "Usia_y                           21\n",
      "Jurusan_y       Teknologi Informasi\n",
      "Tempat Lahir               Pemalang\n",
      "dtype: object\n"
     ]
    }
   ],
   "source": [
    "# Mengonversi DataFrame dari PySpark ke Pandas\n",
    "df_pandas_from_spark = df.toPandas()\n",
    "\n",
    "# Mengonversi DataFrame dari Pandas ke PySpark\n",
    "df_spark_from_pandas = spark.createDataFrame(df_pandas)\n",
    "\n",
    "# Menggabungkan antara dua DataFrame Pandas\n",
    "df_joined = pd.merge(df_pandas_from_spark, df_pandas, on=\"Nama\")\n",
    "\n",
    "# Menampilkan DataFrame hasil penggabungan\n",
    "print(df_joined)\n",
    "\n",
    "# Menghitung nilai maksimum semua atribut\n",
    "print(df_joined.max())"
   ]
  }
 ],
 "metadata": {
  "colab": {
   "provenance": []
  },
  "kernelspec": {
   "display_name": "Python 3 (ipykernel)",
   "language": "python",
   "name": "python3"
  },
  "language_info": {
   "codemirror_mode": {
    "name": "ipython",
    "version": 3
   },
   "file_extension": ".py",
   "mimetype": "text/x-python",
   "name": "python",
   "nbconvert_exporter": "python",
   "pygments_lexer": "ipython3",
   "version": "3.11.9"
  }
 },
 "nbformat": 4,
 "nbformat_minor": 5
}
